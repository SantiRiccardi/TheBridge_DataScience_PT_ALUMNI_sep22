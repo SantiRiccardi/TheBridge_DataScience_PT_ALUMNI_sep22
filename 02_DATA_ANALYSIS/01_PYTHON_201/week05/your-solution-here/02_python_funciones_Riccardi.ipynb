{
 "cells": [
  {
   "cell_type": "markdown",
   "metadata": {},
   "source": [
    "Programación para *Data Science*\n",
    "============================\n",
    "\n",
    "Intro101 - week5\n",
    " Conceptos avanzados de Python\n",
    "--------------------------------------\n",
    "\n",
    "En este Notebook encontraréis dos conjuntos de ejercicios de Python."
   ]
  },
  {
   "cell_type": "markdown",
   "metadata": {},
   "source": [
    "### Ejercicio 1\n",
    "\n",
    "Al final de la Edad Media, en Francia, el diplomático francés Blaise de Vigenère desarrollo un algoritmo para cifrar mensajes que nadie fue capaz de romper durante aproximadamente 250 años. El algoritmo se conoce con el nombre de [cifrado de Vigenère](https://es.wikipedia.org/wiki/Cifrado_de_Vigen%C3%A8re).\n",
    "\n",
    "El cifrado de Vigenère consiste en añadir a cada una de las letras de un texto un desplazamiento a partir de una clave secreta para conseguir una nueva letra diferente de la original. Veamos un ejemplo:\n",
    "\n",
    "Si asignamos el número 1 a la primera letra del abecedario, A, 2 a la siguiente, B, etc., imaginad que tenemos el siguiente mensaje:\n",
    "<code>\n",
    "ABC\n",
    "123\n",
    "</code>\n",
    "\n",
    "y la siguiente clave secreta:\n",
    "<code>\n",
    "DEF\n",
    "456\n",
    "</code>\n",
    "\n",
    "A cada letra del mensaje original aplicamos un desplazamiento en función de la misma posición dentro de la clave secreta. Por lo tanto, el mensaje cifrado quedaría de la siguiente forma:\n",
    "<code>\n",
    "   E       G       I\n",
    "(1 + 4) (2 + 5) (3 + 6)\n",
    "</code>\n",
    "\n",
    "Escribid una función que, dado un mensaje y una clave secreta, calcule y devuelva el mensaje cifrado.\n",
    "\n",
    "*Consideraciones.*\n",
    "\n",
    "- Utilizad como alfabeto de entrada **el alfabeto inglés en mayúsculas**.\n",
    "- El valor por defecto de la clave secreta será **DATASCI**."
   ]
  },
  {
   "cell_type": "code",
   "execution_count": 8,
   "metadata": {},
   "outputs": [
    {
     "name": "stdout",
     "output_type": "stream",
     "text": [
      "ABC\n",
      "DAT\n",
      "ECW\n"
     ]
    }
   ],
   "source": [
    "\n",
    "def cifrado_vigenere(mensaje, clave=\"DATASCI\"):\n",
    "    alfabeto = \"ABCDEFGHIJKLMNOPQRSTUVWXYZ\"\n",
    "    mensaje_limpio=\"\".join(mensaje.split(\" \"))    #elimino espacios del mensaje, y queda un string todo junto\n",
    "    clave_limpia=\"\"                                                #creo la clave de igual longitud al mensaje\n",
    "    i=0\n",
    "    j=0\n",
    "    while i<len(mensaje_limpio):\n",
    "        if j==len(clave):\n",
    "            j=0\n",
    "        clave_limpia+=clave[j]\n",
    "        j+=1\n",
    "        i+=1\n",
    "\n",
    "    # cifro el mensaje\n",
    "    mensaje_cifrado=\"\"\n",
    "    i=0\n",
    "    while i<len(mensaje_limpio):\n",
    "        mensaje_cifrado+=alfabeto[(alfabeto.find(mensaje_limpio[i]))+(alfabeto.find(clave_limpia[i]))+1]\n",
    "\n",
    "        i+=1\n",
    "    \n",
    "    print(mensaje_limpio)\n",
    "    print(clave_limpia)\n",
    "\n",
    "    return mensaje_cifrado\n",
    "\n",
    "# Aquí podéis añadir más ejemplos:\n",
    "print(cifrado_vigenere(\"ABC\",clave=\"DATASCI\"))"
   ]
  },
  {
   "cell_type": "markdown",
   "metadata": {},
   "source": [
    "### Ejercicio 2\n",
    "\n",
    "Completad las siguientes funciones y documentad el código si lo consideráis oportuno. Finalmente, escribid al menos un ejemplo de uso para cada función."
   ]
  },
  {
   "cell_type": "code",
   "execution_count": 9,
   "metadata": {},
   "outputs": [
    {
     "name": "stdout",
     "output_type": "stream",
     "text": [
      "490.00000000000006\n"
     ]
    },
    {
     "ename": "TypeError",
     "evalue": "must be real number, not NoneType",
     "output_type": "error",
     "traceback": [
      "\u001b[1;31m---------------------------------------------------------------------------\u001b[0m",
      "\u001b[1;31mTypeError\u001b[0m                                 Traceback (most recent call last)",
      "\u001b[1;32mc:\\Users\\Santiago\\Desktop\\The Bridge-Data Science\\02_PYTHON II-DATA ANALYSIS-SQL\\PRACTICAS\\02_python_funciones.ipynb Celda 5\u001b[0m in \u001b[0;36m<cell line: 41>\u001b[1;34m()\u001b[0m\n\u001b[0;32m     <a href='vscode-notebook-cell:/c%3A/Users/Santiago/Desktop/The%20Bridge-Data%20Science/02_PYTHON%20II-DATA%20ANALYSIS-SQL/PRACTICAS/02_python_funciones.ipynb#W4sZmlsZQ%3D%3D?line=37'>38</a>\u001b[0m     \u001b[39mreturn\u001b[39;00m x,y\n\u001b[0;32m     <a href='vscode-notebook-cell:/c%3A/Users/Santiago/Desktop/The%20Bridge-Data%20Science/02_PYTHON%20II-DATA%20ANALYSIS-SQL/PRACTICAS/02_python_funciones.ipynb#W4sZmlsZQ%3D%3D?line=39'>40</a>\u001b[0m \u001b[39m# Escribid aquí al menos un ejemplo de uso utilizando las funciones anteriores. Por ejemplo:\u001b[39;00m\n\u001b[1;32m---> <a href='vscode-notebook-cell:/c%3A/Users/Santiago/Desktop/The%20Bridge-Data%20Science/02_PYTHON%20II-DATA%20ANALYSIS-SQL/PRACTICAS/02_python_funciones.ipynb#W4sZmlsZQ%3D%3D?line=40'>41</a>\u001b[0m \u001b[39mprint\u001b[39m(\u001b[39m\"\u001b[39;49m\u001b[39mEl objeto se ha dejado caer des de una altura de \u001b[39;49m\u001b[39m%f\u001b[39;49;00m\u001b[39m metros\u001b[39;49m\u001b[39m\"\u001b[39;49m \u001b[39m%\u001b[39;49m calcular_altura_caida_libre(\u001b[39m10\u001b[39;49m))\n\u001b[0;32m     <a href='vscode-notebook-cell:/c%3A/Users/Santiago/Desktop/The%20Bridge-Data%20Science/02_PYTHON%20II-DATA%20ANALYSIS-SQL/PRACTICAS/02_python_funciones.ipynb#W4sZmlsZQ%3D%3D?line=41'>42</a>\u001b[0m \u001b[39mprint\u001b[39m(\u001b[39m\"\u001b[39m\u001b[39mEl objeto se ha dejado caer des de una altura de \u001b[39m\u001b[39m%f\u001b[39;00m\u001b[39m metros\u001b[39m\u001b[39m\"\u001b[39m \u001b[39m%\u001b[39m calcular_altura_caida_libre(\u001b[39m1.5\u001b[39m))\n\u001b[0;32m     <a href='vscode-notebook-cell:/c%3A/Users/Santiago/Desktop/The%20Bridge-Data%20Science/02_PYTHON%20II-DATA%20ANALYSIS-SQL/PRACTICAS/02_python_funciones.ipynb#W4sZmlsZQ%3D%3D?line=44'>45</a>\u001b[0m \u001b[39mprint\u001b[39m(\u001b[39m\"\u001b[39m\u001b[39mLas coordenadas en el sistema cartesiano del punto (13, 23) son (\u001b[39m\u001b[39m%f\u001b[39;00m\u001b[39m, \u001b[39m\u001b[39m%f\u001b[39;00m\u001b[39m).\u001b[39m\u001b[39m\"\u001b[39m \u001b[39m%\u001b[39m calcular_coordenadas_cartesianas(\u001b[39m13\u001b[39m, \u001b[39m23\u001b[39m))\n",
      "\u001b[1;31mTypeError\u001b[0m: must be real number, not NoneType"
     ]
    }
   ],
   "source": [
    "# Completad las funciones matemáticas siguientes\n",
    "import math\n",
    "\n",
    "\"\"\"Función que calcula la altura en un movimiento de caída libre\n",
    "\n",
    "Suponemos que dejamos caer un objeto des de un edificio de altura desconocida.\n",
    "El parámetro duracion_caida nos indica el tiempo (en segundos) que tarda el objeto en llegar a \n",
    "la tierra. La función debería calcular la altura del edificio des del cual se ha \n",
    "lanzado el objeto.\n",
    "\n",
    "Podéis encontrar más información sobre el movimiento de caída libre en el siguiente \n",
    "enlace: https://www.fisicalab.com/apartado/caida-libre#contenidos.\n",
    "\"\"\"\n",
    "\n",
    "def calcular_altura_caida_libre(duracion_caida):\n",
    "    # Definimos las variables que intervendran en la equación\n",
    "    g=9.8\n",
    "    v=-g*duracion_caida\n",
    "    h=0.5*g*(duracion_caida**2)\n",
    "    return print(h)\n",
    "\n",
    "\n",
    "\"\"\"Función que calcula las coordenadas cartesianas de un punto representado en coordenadas polares\n",
    "\n",
    "Dado un punto representado por sus coordenadas polares (radio y angulo), la función debería calcular \n",
    "las correspondientes coordenadas cartesianas y devolver una tupla con su valor.\n",
    "\n",
    "Podéis encontrar más información sobre el sistema de coordenadas polares y su conversión al sistema \n",
    "cartesiano en el siguiente enlace: https://es.wikipedia.org/wiki/Coordenadas_polares.\n",
    "\"\"\"\n",
    "\n",
    "def calcular_coordenadas_cartesianas(radio, angulo_en_grados):\n",
    "    # Convertimos el ángulo a radianes\n",
    "    angulo_radianes = math.radians(angulo_en_grados)\n",
    "    x=radio*math.cos(angulo_radianes)\n",
    "    y=radio*math.sin(angulo_radianes)\n",
    "\n",
    "    return x,y\n",
    "\n",
    "# Escribid aquí al menos un ejemplo de uso utilizando las funciones anteriores. Por ejemplo:\n",
    "print(\"El objeto se ha dejado caer des de una altura de %f metros\" % calcular_altura_caida_libre(10))\n",
    "print(\"El objeto se ha dejado caer des de una altura de %f metros\" % calcular_altura_caida_libre(1.5))\n",
    "\n",
    "\n",
    "print(\"Las coordenadas en el sistema cartesiano del punto (13, 23) son (%f, %f).\" % calcular_coordenadas_cartesianas(13, 23))\n",
    "print(\"Las coordenadas en el sistema cartesiano del punto (5, 90) son (%f, %f).\" % calcular_coordenadas_cartesianas(5, 90))\n"
   ]
  },
  {
   "cell_type": "code",
   "execution_count": null,
   "metadata": {},
   "outputs": [],
   "source": []
  }
 ],
 "metadata": {
  "kernelspec": {
   "display_name": "Python 3.9.13 ('rampup_py39')",
   "language": "python",
   "name": "python3"
  },
  "language_info": {
   "codemirror_mode": {
    "name": "ipython",
    "version": 3
   },
   "file_extension": ".py",
   "mimetype": "text/x-python",
   "name": "python",
   "nbconvert_exporter": "python",
   "pygments_lexer": "ipython3",
   "version": "3.9.13"
  },
  "orig_nbformat": 4,
  "vscode": {
   "interpreter": {
    "hash": "3d188261b81830b6ac66d1577c0c1247a6cf295c359c5f8aaacef085db0d0245"
   }
  }
 },
 "nbformat": 4,
 "nbformat_minor": 2
}
